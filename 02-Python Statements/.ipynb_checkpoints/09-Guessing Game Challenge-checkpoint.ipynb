{
 "cells": [
  {
   "cell_type": "markdown",
   "metadata": {},
   "source": [
    "# Guessing Game Challenge\n",
    "\n",
    "Let's use `while` loops to create a guessing game.\n",
    "\n",
    "The Challenge:\n",
    "\n",
    "Write a program that picks a random integer from 1 to 100, and has players guess the number. The rules are:\n",
    "\n",
    "1. If a player's guess is less than 1 or greater than 100, say \"OUT OF BOUNDS\"\n",
    "2. On a player's first turn, if their guess is\n",
    " * within 10 of the number, return \"WARM!\"\n",
    " * further than 10 away from the number, return \"COLD!\"\n",
    "3. On all subsequent turns, if a guess is \n",
    " * closer to the number than the previous guess return \"WARMER!\"\n",
    " * farther from the number than the previous guess, return \"COLDER!\"\n",
    "4. When the player's guess equals the number, tell them they've guessed correctly *and* how many guesses it took!\n",
    "\n",
    "You can try this from scratch, or follow the steps outlined below. A separate Solution notebook has been provided. Good luck!\n"
   ]
  },
  {
   "cell_type": "markdown",
   "metadata": {},
   "source": [
    "#### First, pick a random integer from 1 to 100 using the random module and assign it to a variable\n",
    "\n",
    "Note: `random.randint(a,b)` returns a random integer in range `[a, b]`, including both end points."
   ]
  },
  {
   "cell_type": "code",
   "execution_count": 24,
   "metadata": {},
   "outputs": [],
   "source": [
    "import random\n",
    "luckyNum = random.randint(1, 100)"
   ]
  },
  {
   "cell_type": "markdown",
   "metadata": {},
   "source": [
    "#### Next, print an introduction to the game and explain the rules"
   ]
  },
  {
   "cell_type": "code",
   "execution_count": 3,
   "metadata": {},
   "outputs": [
    {
     "name": "stdout",
     "output_type": "stream",
     "text": [
      "Guess the lucky number between 1 and 100. I will let you know if your guess is wamer to the number or colder. Good luck\n"
     ]
    }
   ],
   "source": [
    "print('Guess the lucky number between 1 and 100. I will let you know if your guess is wamer to the number or colder. Good luck')"
   ]
  },
  {
   "cell_type": "markdown",
   "metadata": {},
   "source": [
    "#### Create a list to store guesses\n",
    "\n",
    "Hint: zero is a good placeholder value. It's useful because it evaluates to \"False\""
   ]
  },
  {
   "cell_type": "code",
   "execution_count": 25,
   "metadata": {},
   "outputs": [
    {
     "name": "stdout",
     "output_type": "stream",
     "text": [
      "29\n"
     ]
    }
   ],
   "source": [
    "print(luckyNum)"
   ]
  },
  {
   "cell_type": "code",
   "execution_count": 23,
   "metadata": {},
   "outputs": [
    {
     "name": "stdout",
     "output_type": "stream",
     "text": [
      "1\n"
     ]
    }
   ],
   "source": [
    "\n",
    "print(len(guesses))"
   ]
  },
  {
   "cell_type": "code",
   "execution_count": 16,
   "metadata": {},
   "outputs": [
    {
     "name": "stdout",
     "output_type": "stream",
     "text": [
      "[71, '55', '34', '4', '432', '71']\n",
      "[71, '55', '34', '4', '432', '71', 44]\n"
     ]
    }
   ],
   "source": [
    "print(guesses)\n",
    "y = '44'\n",
    "guesses.append(int(y))\n",
    "print(guesses)"
   ]
  },
  {
   "cell_type": "markdown",
   "metadata": {},
   "source": [
    "#### Write a `while` loop that asks for a valid guess. Test it a few times to make sure it works."
   ]
  },
  {
   "cell_type": "code",
   "execution_count": 19,
   "metadata": {},
   "outputs": [
    {
     "name": "stdout",
     "output_type": "stream",
     "text": [
      "What's your guess? 54\n",
      "Another guess71\n",
      "You've got it! The lucky number is 71.\n"
     ]
    }
   ],
   "source": [
    "guesses.append(int(input(\"What's your guess? \")))\n",
    "while guesses[-1] != luckyNum:\n",
    "    guesses.append(int(input('Another guess')))\n",
    "    pass\n",
    "print(f\"You've got it! The lucky number is {luckyNum}.\")"
   ]
  },
  {
   "cell_type": "markdown",
   "metadata": {},
   "source": [
    "#### Write a `while` loop that compares the player's guess to our number. If the player guesses correctly, break from the loop. Otherwise, tell the player if they're warmer or colder, and continue asking for guesses.\n",
    "\n",
    "Some hints:\n",
    "* it may help to sketch out all possible combinations on paper first!\n",
    "* you can use the `abs()` function to find the positive difference between two numbers\n",
    "* if you append all new guesses to the list, then the previous guess is given as `guesses[-2]`"
   ]
  },
  {
   "cell_type": "code",
   "execution_count": 28,
   "metadata": {},
   "outputs": [
    {
     "name": "stdout",
     "output_type": "stream",
     "text": [
      "Guess the lucky number between 1 and 100. I will let you know if your guess is wamer to the number or colder. Good luck\n",
      "What's your guess? 22\n",
      "The number, 22, is warm! Have another guess: 27\n",
      "This guess, 27, is warmer! Have another guess: 28\n",
      "The number, 28, is warm! Have another guess: 33\n",
      "This guess, 33, is colder! Have another guess: 30\n",
      "The number, 30, is warm! Have another guess: 33\n",
      "This guess, 33, is colder! Have another guess: 35\n",
      "The number, 35, is warm! Have another guess: 32\n",
      "This guess, 32, is warmer! Have another guess: 27\n",
      "The number, 27, is warm! Have another guess: 29\n",
      "You've got it! The lucky number is 29.\n",
      "You got it on your 10th guess.\n"
     ]
    }
   ],
   "source": [
    "guesses = [0]\n",
    "print('Guess the lucky number between 1 and 100. I will let you know if your guess is wamer to the number or colder. Good luck')\n",
    "guesses.append(int(input(\"What's your guess? \")))\n",
    "\n",
    "while guesses[-1] != luckyNum:\n",
    "    if guesses[-1] < 1 or guesses[-1] > 100:\n",
    "        guesses.append(int(input(f'This number, {guesses[-1]}, is out of bound. Please guess between 1 and 100: ')))\n",
    "        continue\n",
    "    elif abs(guesses[-1] - luckyNum) > 10:\n",
    "        guesses.append(int(input(f'The number, {guesses[-1]}, is cold. Have another guess: ')))\n",
    "        continue\n",
    "    elif abs(guesses[-1] - luckyNum) < 10:\n",
    "        guesses.append(int(input(f'The number, {guesses[-1]}, is warm! Have another guess: ')))\n",
    "        if guesses[-1] == luckyNum:\n",
    "            break\n",
    "        elif abs(guesses[-1] - luckyNum) < abs(guesses[-2] - luckyNum):\n",
    "            guesses.append(int(input(f'This guess, {guesses[-1]}, is warmer! Have another guess: ')))\n",
    "            continue\n",
    "        elif abs(guesses[-1] - luckyNum) > abs(guesses[-2] - luckyNum):\n",
    "            guesses.append(int(input(f'This guess, {guesses[-1]}, is colder! Have another guess: ')))\n",
    "            continue\n",
    "    \n",
    "\n",
    "print(f\"You've got it! The lucky number is {luckyNum}.\")\n",
    "\n",
    "index = len(guesses) - 1\n",
    "if index == 1:\n",
    "    print(\"Awesome, you got it on your first guess!\")\n",
    "elif index == 2:\n",
    "    print('You got it on your 2nd guess.')\n",
    "elif index == 3:\n",
    "    print('You got it on your 3rd guess.')\n",
    "else:\n",
    "    print(f\"You got it on your {index}th guess.\")"
   ]
  },
  {
   "cell_type": "markdown",
   "metadata": {},
   "source": [
    "That's it! You've just programmed your first game!\n",
    "\n",
    "In the next section we'll learn how to turn some of these repetitive actions into *functions* that can be called whenever we need them."
   ]
  },
  {
   "cell_type": "markdown",
   "metadata": {},
   "source": [
    "### Good Job!"
   ]
  }
 ],
 "metadata": {
  "kernelspec": {
   "display_name": "Python 3",
   "language": "python",
   "name": "python3"
  },
  "language_info": {
   "codemirror_mode": {
    "name": "ipython",
    "version": 3
   },
   "file_extension": ".py",
   "mimetype": "text/x-python",
   "name": "python",
   "nbconvert_exporter": "python",
   "pygments_lexer": "ipython3",
   "version": "3.6.7"
  }
 },
 "nbformat": 4,
 "nbformat_minor": 2
}
