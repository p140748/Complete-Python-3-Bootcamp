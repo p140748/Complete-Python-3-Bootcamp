{
 "cells": [
  {
   "cell_type": "markdown",
   "metadata": {},
   "source": [
    "# Milestone Project 1\n",
    "## Congratulations on making it to your first milestone!\n",
    "You've already learned a ton and are ready to work on a real project.\n",
    "\n",
    "Your assignment: Create a Tic Tac Toe game. You are free to use any IDE you like.\n",
    "\n",
    "Here are the requirements:\n",
    "\n",
    "* 2 players should be able to play the game (both sitting at the same computer)\n",
    "* The board should be printed out every time a player makes a move\n",
    "* You should be able to accept input of the player position and then place a symbol on the board\n",
    "\n",
    "Feel free to use Google to help you figure anything out (but don't just Google \"Tic Tac Toe in Python\" otherwise you won't learn anything!) Keep in mind that this project can take anywhere between several hours to several days.\n",
    "\n",
    "There are 4 Jupyter Notebooks related to this assignment:\n",
    "\n",
    "* This Assignment Notebook\n",
    "* A \"Walkthrough Steps Workbook\" Notebook\n",
    "* A \"Complete Walkthrough Solution\" Notebook\n",
    "* An \"Advanced Solution\" Notebook\n",
    "\n",
    "I encourage you to just try to start the project on your own without referencing any of the notebooks. If you get stuck, check out the next lecture which is a text lecture with helpful hints and steps. If you're still stuck after that, then check out the Walkthrough Steps Workbook, which breaks up the project in steps for you to solve. Still stuck? Then check out the Complete Walkthrough Solution video for more help on approaching the project!"
   ]
  },
  {
   "cell_type": "markdown",
   "metadata": {},
   "source": [
    "There are parts of this that will be a struggle...and that is good! I have complete faith that if you have made it this far through the course you have all the tools and knowledge to tackle this project. Remember, it's totally open book, so take your time, do a little research, and remember:\n",
    "\n",
    "## HAVE FUN!"
   ]
  },
  {
   "cell_type": "code",
   "execution_count": 1,
   "metadata": {},
   "outputs": [],
   "source": [
    "from IPython.display import clear_output\n"
   ]
  },
  {
   "cell_type": "code",
<<<<<<< HEAD
   "execution_count": 3,
=======
   "execution_count": 13,
>>>>>>> 1d785ff34e1503f6f3262fcd123fca77a2d33d61
   "metadata": {},
   "outputs": [],
   "source": [
    "def display_board(board):\n",
    "    clear_output()\n",
    "    print(f'{board[1]} | {board[2]} | {board[3]}')\n",
    "    print('- - - - -')\n",
    "    print(f'{board[4]} | {board[5]} | {board[6]}')\n",
    "    print('- - - - -')\n",
    "    print(f'{board[7]} | {board[8]} | {board[9]}')\n",
    "    pass\n",
    "\n",
<<<<<<< HEAD
    "def test_winner(board, marker1, marker2):\n",
    "    pass"
=======
    "def check_duplicate(board, newMark):\n",
    "    if board[newMark] == '#':\n",
    "        return True\n",
    "    elif board[newMark] != ' ':\n",
    "        print('The space is already taken.')\n",
    "        return True\n",
    "    else:\n",
    "        return False\n",
    "\n",
    "def check_winner(b):\n",
    "    if (b[1]==b[2]==b[3] and b[1]!=\" \") or (b[1]==b[4]==b[7] and b[1]!=' ') or (b[2]==b[5]==b[8] and b[2]!=' ') or (b[3]==b[6]==b[9] and b[3]!=' ') or (b[3]==b[5]==b[7] and b[3]!=' ') or (b[4]==b[5]==b[6] and b[4]!=' ') or (b[1]==b[5]==b[9] and b[1]!=' ') or (b[7]==b[8]==b[9] and b[7]!=' '):\n",
    "        return True\n",
    "    else:\n",
    "        return False\n",
    "    "
>>>>>>> 1d785ff34e1503f6f3262fcd123fca77a2d33d61
   ]
  },
  {
   "cell_type": "code",
   "execution_count": 4,
   "metadata": {},
   "outputs": [
    {
     "name": "stdout",
     "output_type": "stream",
     "text": [
      "X | O | X\n",
      "- - - - -\n",
      "O | X | O\n",
      "- - - - -\n",
      "X | O | X\n"
     ]
    }
   ],
   "source": [
    "test_board = ['#','X','O','X','O','X','O','X','O','X']\n",
    "display_board(test_board)"
   ]
  },
  {
   "cell_type": "code",
<<<<<<< HEAD
   "execution_count": 5,
=======
   "execution_count": 14,
>>>>>>> 1d785ff34e1503f6f3262fcd123fca77a2d33d61
   "metadata": {},
   "outputs": [
    {
     "name": "stdout",
     "output_type": "stream",
     "text": [
      "Pick a marker for Player 1: X\n",
<<<<<<< HEAD
      "Pick a marker for Player 2 that's different than X: O\n",
      "Player 1 is X, and Player 2 is O\n"
=======
      "Pick a marker for Player 2 that's different than X: o\n",
      "Player 1 is X, and Player 2 is o\n"
>>>>>>> 1d785ff34e1503f6f3262fcd123fca77a2d33d61
     ]
    }
   ],
   "source": [
    "#get player input for markers\n",
    "settingMarker = 'True'\n",
    "while settingMarker:\n",
    "    marker1 = input('Pick a marker for Player 1: ')\n",
    "    marker2 = input(f\"Pick a marker for Player 2 that's different than {marker1}: \")\n",
    "    \n",
    "    #make sure the markers are different\n",
    "    if marker1 == marker2:\n",
    "        print('The two markers are the same. Please input the markers again')\n",
    "        continue\n",
    "    else:\n",
    "        print(f'Player 1 is {marker1}, and Player 2 is {marker2}')\n",
    "        settingMarker = 'False'\n",
    "        break\n",
    "        \n",
    "        "
   ]
  },
  {
   "cell_type": "code",
<<<<<<< HEAD
   "execution_count": 6,
=======
   "execution_count": 4,
>>>>>>> 1d785ff34e1503f6f3262fcd123fca77a2d33d61
   "metadata": {},
   "outputs": [
    {
     "name": "stdout",
     "output_type": "stream",
     "text": [
      "The board is numbered as followed:\n",
      "1 | 2 | 3\n",
      "- - - - -\n",
      "4 | 5 | 6\n",
      "- - - - -\n",
      "7 | 8 | 9\n"
     ]
    }
   ],
   "source": [
    "print('The board is numbered as followed:')\n",
    "numberB = ['#','1','2','3','4','5','6','7','8','9']\n",
    "display_board(numberB)\n"
   ]
  },
  {
   "cell_type": "code",
   "execution_count": 15,
   "metadata": {},
   "outputs": [
    {
     "name": "stdout",
     "output_type": "stream",
     "text": [
      "X | X | o\n",
      "- - - - -\n",
      "o | o | X\n",
      "- - - - -\n",
      "X | o | X\n",
      "It's a tie!\n"
     ]
    }
   ],
   "source": [
    "board = ['#',' ',' ',' ',' ',' ',' ',' ',' ',' ']\n",
    "i = 1\n",
    "while i in range(1,10):\n",
    "    if i<5 and i%2!=0:\n",
    "        #Player 1 moves before needing to check win\n",
    "        move = 0\n",
    "        while check_duplicate(board, move):\n",
    "            move = int(input(f'Player 1({marker1}), choose where on the board to place your mark: '))\n",
    "        board[move] = marker1\n",
    "        display_board(board)\n",
    "        i += 1\n",
    "        continue\n",
    "        \n",
    "    elif i<5 and i%2==0:\n",
    "        #Player 2 moves before needing to check win\n",
    "        move = 0\n",
    "        while check_duplicate(board, move):\n",
    "            move = int(input(f'Player 2({marker2}), choose where on the board to place your mark: '))\n",
    "        board[move] = marker2\n",
    "        display_board(board)\n",
    "        i += 1\n",
    "        continue\n",
    "        \n",
    "    elif i>=5 and i%2!=0:\n",
    "        #Player 1 moves need to check win\n",
    "        move = 0\n",
    "        while check_duplicate(board, move):\n",
    "            move = int(input(f'Player 1({marker1}), choose where on the board to place your mark: '))\n",
    "        board[move] = marker1\n",
    "        if check_winner(board):\n",
    "            print('Player 1 wins!!!!!')\n",
    "            display_board(board)\n",
    "            break\n",
    "        else:\n",
    "            display_board(board)\n",
    "            i += 1\n",
    "        continue\n",
    "        \n",
    "    else:\n",
    "        #Player 2 moves need to check win\n",
    "        move = 0\n",
    "        while check_duplicate(board, move):\n",
    "            move = int(input(f'Player 2({marker2}), choose where on the board to place your mark: '))\n",
    "        board[move] = marker2\n",
    "        if check_winner(board):\n",
    "            print('Player 2 wins!!!!!')\n",
    "            display_board(board)\n",
    "            break\n",
    "        else:\n",
    "            display_board(board)\n",
    "            i += 1\n",
    "        continue\n",
    "\n",
    "if check_winner(board):\n",
    "    print('Good game.')\n",
    "else:\n",
    "    print(\"It's a tie!\")"
   ]
  },
  {
   "cell_type": "code",
   "execution_count": null,
   "metadata": {},
   "outputs": [],
<<<<<<< HEAD
   "source": [
    "board = ['#',' ',' ',' ',' ',' ',' ',' ',' ',' ']\n",
    "\n",
    "while i = range(1:9):\n",
    "    "
   ]
=======
   "source": []
>>>>>>> 1d785ff34e1503f6f3262fcd123fca77a2d33d61
  }
 ],
 "metadata": {
  "kernelspec": {
   "display_name": "Python 3",
   "language": "python",
   "name": "python3"
  },
  "language_info": {
   "codemirror_mode": {
    "name": "ipython",
    "version": 3
   },
   "file_extension": ".py",
   "mimetype": "text/x-python",
   "name": "python",
   "nbconvert_exporter": "python",
   "pygments_lexer": "ipython3",
   "version": "3.6.8"
  }
 },
 "nbformat": 4,
 "nbformat_minor": 1
}
