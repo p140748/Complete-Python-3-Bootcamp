{
 "cells": [
  {
   "cell_type": "markdown",
   "metadata": {},
   "source": [
    "# Milestone Project 2 - Walkthrough Steps Workbook\n",
    "Below is a set of steps for you to follow to try to create the Blackjack Milestone Project game!"
   ]
  },
  {
   "cell_type": "markdown",
   "metadata": {},
   "source": [
    "## Game Play\n",
    "To play a hand of Blackjack the following steps must be followed:\n",
    "1. Create a deck of 52 cards\n",
    "2. Shuffle the deck\n",
    "3. Ask the Player for their bet\n",
    "4. Make sure that the Player's bet does not exceed their available chips\n",
    "5. Deal two cards to the Dealer and two cards to the Player\n",
    "6. Show only one of the Dealer's cards, the other remains hidden\n",
    "7. Show both of the Player's cards\n",
    "8. Ask the Player if they wish to Hit, and take another card\n",
    "9. If the Player's hand doesn't Bust (go over 21), ask if they'd like to Hit again.\n",
    "10. If a Player Stands, play the Dealer's hand. The dealer will always Hit until the Dealer's value meets or exceeds 17\n",
    "11. Determine the winner and adjust the Player's chips accordingly\n",
    "12. Ask the Player if they'd like to play again"
   ]
  },
  {
   "cell_type": "markdown",
   "metadata": {},
   "source": [
    "## Playing Cards\n",
    "A standard deck of playing cards has four suits (Hearts, Diamonds, Spades and Clubs) and thirteen ranks (2 through 10, then the face cards Jack, Queen, King and Ace) for a total of 52 cards per deck. Jacks, Queens and Kings all have a rank of 10. Aces have a rank of either 11 or 1 as needed to reach 21 without busting. As a starting point in your program, you may want to assign variables to store a list of suits, ranks, and then use a dictionary to map ranks to values."
   ]
  },
  {
   "cell_type": "markdown",
   "metadata": {},
   "source": [
    "## The Game\n",
    "### Imports and Global Variables\n",
    "** Step 1: Import the random module. This will be used to shuffle the deck prior to dealing. Then, declare variables to store suits, ranks and values. You can develop your own system, or copy ours below. Finally, declare a Boolean value to be used to control <code>while</code> loops. This is a common practice used to control the flow of the game.**\n",
    "\n",
    "    suits = ('Hearts', 'Diamonds', 'Spades', 'Clubs')\n",
    "    ranks = ('Two', 'Three', 'Four', 'Five', 'Six', 'Seven', 'Eight', 'Nine', 'Ten', 'Jack', 'Queen', 'King', 'Ace')\n",
    "    values = {'Two':2, 'Three':3, 'Four':4, 'Five':5, 'Six':6, 'Seven':7, 'Eight':8, 'Nine':9, 'Ten':10, 'Jack':10,\n",
    "             'Queen':10, 'King':10, 'Ace':11}"
   ]
  },
  {
   "cell_type": "code",
   "execution_count": 33,
   "metadata": {},
   "outputs": [],
   "source": [
    "import random\n",
    "\n",
    "suits = ('Hearts', 'Diamonds', 'Spades', 'Clubs')\n",
    "ranks = ('Two', 'Three', 'Four', 'Five', 'Six', 'Seven', 'Eight', 'Nine', 'Ten', 'Jack', 'Queen', 'King', 'Ace')\n",
    "values = {'Two':2, 'Three':3, 'Four':4, 'Five':5, 'Six':6, 'Seven':7, 'Eight':8, 'Nine':9, 'Ten':10, 'Jack':10,\n",
    "         'Queen':10, 'King':10, 'Ace':11}\n",
    "\n",
    "playing = True"
   ]
  },
  {
   "cell_type": "markdown",
   "metadata": {},
   "source": [
    "### Class Definitions\n",
    "Consider making a Card class where each Card object has a suit and a rank, then a Deck class to hold all 52 Card objects, and can be shuffled, and finally a Hand class that holds those Cards that have been dealt to each player from the Deck."
   ]
  },
  {
   "cell_type": "markdown",
   "metadata": {},
   "source": [
    "**Step 2: Create a Card Class**<br>\n",
    "A Card object really only needs two attributes: suit and rank. You might add an attribute for \"value\" - we chose to handle value later when developing our Hand class.<br>In addition to the Card's \\_\\_init\\_\\_ method, consider adding a \\_\\_str\\_\\_ method that, when asked to print a Card, returns a string in the form \"Two of Hearts\""
   ]
  },
  {
   "cell_type": "code",
   "execution_count": 34,
   "metadata": {},
   "outputs": [],
   "source": [
    "class Card:\n",
    "    \n",
    "    def __init__(self, suit, rank):\n",
    "        self.suit = suit\n",
    "        self.rank = rank\n",
    "    \n",
    "    def __str__(self):\n",
    "        return f'{self.rank} of {self.suit}'"
   ]
  },
  {
   "cell_type": "markdown",
   "metadata": {},
   "source": [
    "**Step 3: Create a Deck Class**<br>\n",
    "Here we might store 52 card objects in a list that can later be shuffled. First, though, we need to *instantiate* all 52 unique card objects and add them to our list. So long as the Card class definition appears in our code, we can build Card objects inside our Deck \\_\\_init\\_\\_ method. Consider iterating over sequences of suits and ranks to build out each card. This might appear inside a Deck class \\_\\_init\\_\\_ method:\n",
    "\n",
    "    for suit in suits:\n",
    "        for rank in ranks:\n",
    "\n",
    "In addition to an \\_\\_init\\_\\_ method we'll want to add methods to shuffle our deck, and to deal out cards during gameplay.<br><br>\n",
    "OPTIONAL: We may never need to print the contents of the deck during gameplay, but having the ability to see the cards inside it may help troubleshoot any problems that occur during development. With this in mind, consider adding a \\_\\_str\\_\\_ method to the class definition."
   ]
  },
  {
   "cell_type": "code",
   "execution_count": 35,
   "metadata": {},
   "outputs": [],
   "source": [
    "class Deck:\n",
    "    \n",
    "    def __init__(self):\n",
    "        self.deck = []  # start with an empty list\n",
    "        for suit in suits:\n",
    "            for rank in ranks:\n",
    "                self.deck.append(Card(suit, rank))\n",
    "    \n",
    "    def __str__(self):\n",
    "        deck_comp = ''\n",
    "        for card in self.deck:\n",
    "            deck_comp += '\\n' + card.__str__()\n",
    "        return 'The deck has: ' + deck_comp\n",
    "\n",
    "    def shuffle(self):\n",
    "        random.shuffle(self.deck)\n",
    "        \n",
    "    def deal(self):\n",
    "        OutGoingCard = self.deck.pop()\n",
    "        return OutGoingCard"
   ]
  },
  {
   "cell_type": "markdown",
   "metadata": {},
   "source": [
    "TESTING: Just to see that everything works so far, let's see what our Deck looks like!"
   ]
  },
  {
   "cell_type": "code",
   "execution_count": 14,
   "metadata": {},
   "outputs": [
    {
     "name": "stdout",
     "output_type": "stream",
     "text": [
      "The deck has: \n",
      "Three of Clubs\n",
      "Six of Diamonds\n",
      "Two of Diamonds\n",
      "Three of Diamonds\n",
      "Jack of Clubs\n",
      "Queen of Spades\n",
      "Seven of Hearts\n",
      "Seven of Spades\n",
      "Jack of Spades\n",
      "Nine of Spades\n",
      "Ten of Hearts\n",
      "Six of Clubs\n",
      "Eight of Spades\n",
      "Ten of Spades\n",
      "Queen of Diamonds\n",
      "Five of Spades\n",
      "Ten of Diamonds\n",
      "Eight of Clubs\n",
      "Nine of Diamonds\n",
      "Queen of Hearts\n",
      "Jack of Diamonds\n",
      "Three of Hearts\n",
      "Two of Hearts\n",
      "Two of Spades\n",
      "King of Diamonds\n",
      "Four of Clubs\n",
      "Four of Spades\n",
      "Six of Hearts\n",
      "King of Clubs\n",
      "Five of Clubs\n",
      "Six of Spades\n",
      "Two of Clubs\n",
      "Seven of Diamonds\n",
      "Queen of Clubs\n",
      "Eight of Diamonds\n",
      "Eight of Hearts\n",
      "Four of Hearts\n",
      "Ten of Clubs\n",
      "Ace of Diamonds\n",
      "Five of Diamonds\n",
      "Seven of Clubs\n",
      "Four of Diamonds\n",
      "Nine of Hearts\n",
      "Nine of Clubs\n",
      "Ace of Spades\n",
      "King of Spades\n",
      "Three of Spades\n",
      "Five of Hearts\n",
      "King of Hearts\n",
      "Ace of Clubs\n",
      "Jack of Hearts\n",
      "Ace of Hearts\n"
     ]
    }
   ],
   "source": [
    "test_deck = Deck()\n",
    "test_deck.shuffle()\n",
    "print(test_deck)"
   ]
  },
  {
   "cell_type": "markdown",
   "metadata": {},
   "source": [
    "Great! Now let's move on to our Hand class."
   ]
  },
  {
   "cell_type": "code",
   "execution_count": 17,
   "metadata": {},
   "outputs": [
    {
     "name": "stdout",
     "output_type": "stream",
     "text": [
      "the card is Ace of Clubs\n",
      "The deck has: \n",
      "Three of Clubs\n",
      "Six of Diamonds\n",
      "Two of Diamonds\n",
      "Three of Diamonds\n",
      "Jack of Clubs\n",
      "Queen of Spades\n",
      "Seven of Hearts\n",
      "Seven of Spades\n",
      "Jack of Spades\n",
      "Nine of Spades\n",
      "Ten of Hearts\n",
      "Six of Clubs\n",
      "Eight of Spades\n",
      "Ten of Spades\n",
      "Queen of Diamonds\n",
      "Five of Spades\n",
      "Ten of Diamonds\n",
      "Eight of Clubs\n",
      "Nine of Diamonds\n",
      "Queen of Hearts\n",
      "Jack of Diamonds\n",
      "Three of Hearts\n",
      "Two of Hearts\n",
      "Two of Spades\n",
      "King of Diamonds\n",
      "Four of Clubs\n",
      "Four of Spades\n",
      "Six of Hearts\n",
      "King of Clubs\n",
      "Five of Clubs\n",
      "Six of Spades\n",
      "Two of Clubs\n",
      "Seven of Diamonds\n",
      "Queen of Clubs\n",
      "Eight of Diamonds\n",
      "Eight of Hearts\n",
      "Four of Hearts\n",
      "Ten of Clubs\n",
      "Ace of Diamonds\n",
      "Five of Diamonds\n",
      "Seven of Clubs\n",
      "Four of Diamonds\n",
      "Nine of Hearts\n",
      "Nine of Clubs\n",
      "Ace of Spades\n",
      "King of Spades\n",
      "Three of Spades\n",
      "Five of Hearts\n",
      "King of Hearts\n"
     ]
    }
   ],
   "source": [
    "print(f'the card is {test_deck.deal()}')\n",
    "print(test_deck)\n"
   ]
  },
  {
   "cell_type": "markdown",
   "metadata": {},
   "source": [
    "**Step 4: Create a Hand Class**<br>\n",
    "In addition to holding Card objects dealt from the Deck, the Hand class may be used to calculate the value of those cards using the values dictionary defined above. It may also need to adjust for the value of Aces when appropriate."
   ]
  },
  {
   "cell_type": "code",
   "execution_count": 36,
   "metadata": {},
   "outputs": [],
   "source": [
    "class Hand:\n",
    "    def __init__(self):\n",
    "        self.cards = []  # start with an empty list as we did in the Deck class\n",
    "        self.value = 0   # start with zero value\n",
    "        self.aces = 0    # add an attribute to keep track of aces\n",
    "    \n",
    "    def add_card(self,card):\n",
    "        self.cards.append(card)\n",
    "        self.value += values[card.rank]\n",
    "        if card.rank == 'Ace':\n",
    "            self.aces += 1\n",
    "        else:\n",
    "            pass\n",
    "    \n",
    "    def adjust_for_ace(self):\n",
    "        while self.value > 21:\n",
    "            if self.aces != 0:\n",
    "                self.value -= 10\n",
    "                self.aces -= 1\n",
    "                continue\n",
    "            else:\n",
    "                break"
   ]
  },
  {
   "cell_type": "code",
   "execution_count": 37,
   "metadata": {},
   "outputs": [
    {
     "name": "stdout",
     "output_type": "stream",
     "text": [
      "Jack of Clubs\n",
      "Eight of Hearts\n"
     ]
    },
    {
     "data": {
      "text/plain": [
       "18"
      ]
     },
     "execution_count": 37,
     "metadata": {},
     "output_type": "execute_result"
    }
   ],
   "source": [
    "testDeck = Deck()\n",
    "player = Hand()\n",
    "testDeck.shuffle()\n",
    "player.add_card(testDeck.deal())\n",
    "player.add_card(testDeck.deal())\n",
    "for cards in player.cards:\n",
    "    print(cards)\n",
    "player.value"
   ]
  },
  {
   "cell_type": "markdown",
   "metadata": {},
   "source": [
    "**Step 5: Create a Chips Class**<br>\n",
    "In addition to decks of cards and hands, we need to keep track of a Player's starting chips, bets, and ongoing winnings. This could be done using global variables, but in the spirit of object oriented programming, let's make a Chips class instead!"
   ]
  },
  {
   "cell_type": "code",
   "execution_count": 38,
   "metadata": {},
   "outputs": [],
   "source": [
    "class Chips:\n",
    "    \n",
    "    def __init__(self, total=100):\n",
    "        self.total = total  # This can be set to a default value or supplied by a user input\n",
    "        self.bet = 0\n",
    "        \n",
    "    def win_bet(self):\n",
    "        self.total += self.bet\n",
    "    \n",
    "    def lose_bet(self):\n",
    "        self.total -= self.bet"
   ]
  },
  {
   "cell_type": "markdown",
   "metadata": {},
   "source": [
    "### Function Defintions\n",
    "A lot of steps are going to be repetitive. That's where functions come in! The following steps are guidelines - add or remove functions as needed in your own program."
   ]
  },
  {
   "cell_type": "markdown",
   "metadata": {},
   "source": [
    "**Step 6: Write a function for taking bets**<br>\n",
    "Since we're asking the user for an integer value, this would be a good place to use <code>try</code>/<code>except</code>. Remember to check that a Player's bet can be covered by their available chips."
   ]
  },
  {
   "cell_type": "code",
   "execution_count": 45,
   "metadata": {},
   "outputs": [],
   "source": [
    "def take_bet(chip):\n",
    "    while True:\n",
    "        try:\n",
    "            chip.bet = int(input('How much do you want to bet on this hand? '))\n",
    "        except ValueError:\n",
    "            print('Please input an integer number.')\n",
    "        else:\n",
    "            if chip.bet > chip.total:\n",
    "                print(f\"Sorry, you only have {chip.total} left. Please place a bet no larger than that.\")\n",
    "            else:\n",
    "                break"
   ]
  },
  {
   "cell_type": "markdown",
   "metadata": {},
   "source": [
    "**Step 7: Write a function for taking hits**<br>\n",
    "Either player can take hits until they bust. This function will be called during gameplay anytime a Player requests a hit, or a Dealer's hand is less than 17. It should take in Deck and Hand objects as arguments, and deal one card off the deck and add it to the Hand. You may want it to check for aces in the event that a player's hand exceeds 21."
   ]
  },
  {
   "cell_type": "code",
   "execution_count": 40,
   "metadata": {},
   "outputs": [],
   "source": [
    "def hit(deck,hand):\n",
    "    hand.add_card(deck.deal())\n",
    "    hand.adjust_for_ace()\n",
    "        "
   ]
  },
  {
   "cell_type": "markdown",
   "metadata": {},
   "source": [
    "**Step 8: Write a function prompting the Player to Hit or Stand**<br>\n",
    "This function should accept the deck and the player's hand as arguments, and assign playing as a global variable.<br>\n",
    "If the Player Hits, employ the hit() function above. If the Player Stands, set the playing variable to False - this will control the behavior of a <code>while</code> loop later on in our code."
   ]
  },
  {
   "cell_type": "code",
   "execution_count": 50,
   "metadata": {},
   "outputs": [],
   "source": [
    "def hit_or_stand(deck,hand):\n",
    "    global playing  # to control an upcoming while loop\n",
    "    while playing:\n",
    "        resp = input('Do you want to hit? y/n')\n",
    "        \n",
    "        if resp[0].lower() == 'y':\n",
    "            hit(deck, hand)\n",
    "        \n",
    "        elif resp[0].lower() == 'n':\n",
    "            print('Player stand. Now it is Dealer turn.')\n",
    "            playing = False\n",
    "        \n",
    "        else:\n",
    "            print('Please only reply with y or n')\n",
    "            continue\n",
    "        break"
   ]
  },
  {
   "cell_type": "markdown",
   "metadata": {},
   "source": [
    "**Step 9: Write functions to display cards**<br>\n",
    "When the game starts, and after each time Player takes a card, the dealer's first card is hidden and all of Player's cards are visible. At the end of the hand all cards are shown, and you may want to show each hand's total value. Write a function for each of these scenarios."
   ]
  },
  {
   "cell_type": "code",
   "execution_count": 58,
   "metadata": {},
   "outputs": [],
   "source": [
    "def show_some(player,dealer):\n",
    "    print('\\nDealer has: \\n <The mistery card> \\n' + dealer.cards[1].__str__())\n",
    "    print('\\nPlayer has: ')\n",
    "    for cards in player.cards:\n",
    "        print(cards.__str__())\n",
    "    \n",
    "def show_all(player,dealer):\n",
    "    print('\\nDealer has: ')\n",
    "    for cards in dealer.cards:\n",
    "        print(cards.__str__())\n",
    "    print(\"Dealer's Hand = \", dealer.value)\n",
    "    print('\\nPlayer has: ')\n",
    "    for cards in player.cards:\n",
    "        print(cards.__str__())\n",
    "    print(\"Player's Hand = \", player.value)"
   ]
  },
  {
   "cell_type": "markdown",
   "metadata": {},
   "source": [
    "**Step 10: Write functions to handle end of game scenarios**<br>\n",
    "Remember to pass player's hand, dealer's hand and chips as needed."
   ]
  },
  {
   "cell_type": "code",
   "execution_count": 55,
   "metadata": {},
   "outputs": [],
   "source": [
    "def player_busts(player, dealer, chips):\n",
    "    print('Busted, you lose!')\n",
    "    chips.lose_bet()\n",
    "\n",
    "def player_wins(player, dealer, chips):\n",
    "    print('Your ', player.value, \" is larger than dealer's \", dealer.value)\n",
    "    print('You win!')\n",
    "    chips.win_bet()\n",
    "\n",
    "def dealer_busts(player, dealer, chips):\n",
    "    print('Dealer busted, you win!')\n",
    "    chips.win_bet()\n",
    "    \n",
    "def dealer_wins(player, dealer, chips):\n",
    "    print('Your ', player.value, \" is smaller than dealer's \", dealer.value)\n",
    "    print('You lose!')\n",
    "    chips.lose_bet()\n",
    "    \n",
    "def push(player, dealer, chips):\n",
    "    print(\"Push! It's a tie.\")"
   ]
  },
  {
   "cell_type": "markdown",
   "metadata": {},
   "source": [
    "### And now on to the game!!"
   ]
  },
  {
   "cell_type": "code",
   "execution_count": 59,
   "metadata": {},
   "outputs": [
    {
     "name": "stdout",
     "output_type": "stream",
     "text": [
      "Welcome to Patrick's Black Jack.\n",
      "Dealer will hit until reach at least 17. Aces count as 1 or 11.\n"
     ]
    },
    {
     "name": "stdin",
     "output_type": "stream",
     "text": [
      "How much do you want to bet on this hand?  555\n"
     ]
    },
    {
     "name": "stdout",
     "output_type": "stream",
     "text": [
      "Sorry, you only have 100 left. Please place a bet no larger than that.\n"
     ]
    },
    {
     "name": "stdin",
     "output_type": "stream",
     "text": [
      "How much do you want to bet on this hand?  100\n"
     ]
    },
    {
     "name": "stdout",
     "output_type": "stream",
     "text": [
      "\n",
      "Dealer has: \n",
      " <The mistery card> \n",
      "Four of Diamonds\n",
      "\n",
      "Player has: \n",
      "Six of Diamonds\n",
      "Four of Spades\n"
     ]
    },
    {
     "name": "stdin",
     "output_type": "stream",
     "text": [
      "Do you want to hit? y/n y\n"
     ]
    },
    {
     "name": "stdout",
     "output_type": "stream",
     "text": [
      "\n",
      "Dealer has: \n",
      " <The mistery card> \n",
      "Four of Diamonds\n",
      "\n",
      "Player has: \n",
      "Six of Diamonds\n",
      "Four of Spades\n",
      "Three of Clubs\n"
     ]
    },
    {
     "name": "stdin",
     "output_type": "stream",
     "text": [
      "Do you want to hit? y/n n\n"
     ]
    },
    {
     "name": "stdout",
     "output_type": "stream",
     "text": [
      "Player stand. Now it is Dealer turn.\n",
      "\n",
      "Dealer has: \n",
      " <The mistery card> \n",
      "Four of Diamonds\n",
      "\n",
      "Player has: \n",
      "Six of Diamonds\n",
      "Four of Spades\n",
      "Three of Clubs\n",
      "\n",
      "Dealer has: \n",
      "Jack of Hearts\n",
      "Four of Diamonds\n",
      "Six of Spades\n",
      "Dealer's Hand =  20\n",
      "\n",
      "Player has: \n",
      "Six of Diamonds\n",
      "Four of Spades\n",
      "Three of Clubs\n",
      "Player's Hand =  13\n",
      "Your  13  is smaller than dealer's  20\n",
      "You lose!\n",
      "Player's current chip count is  0\n"
     ]
    },
    {
     "name": "stdin",
     "output_type": "stream",
     "text": [
      "Would you like to play another hand? Enter 'y' or 'n'  y\n"
     ]
    },
    {
     "name": "stdout",
     "output_type": "stream",
     "text": [
      "Welcome to Patrick's Black Jack.\n",
      "Dealer will hit until reach at least 17. Aces count as 1 or 11.\n"
     ]
    },
    {
     "name": "stdin",
     "output_type": "stream",
     "text": [
      "How much do you want to bet on this hand?  43\n"
     ]
    },
    {
     "name": "stdout",
     "output_type": "stream",
     "text": [
      "\n",
      "Dealer has: \n",
      " <The mistery card> \n",
      "Four of Diamonds\n",
      "\n",
      "Player has: \n",
      "Ace of Spades\n",
      "Four of Spades\n"
     ]
    },
    {
     "name": "stdin",
     "output_type": "stream",
     "text": [
      "Do you want to hit? y/n y\n"
     ]
    },
    {
     "name": "stdout",
     "output_type": "stream",
     "text": [
      "\n",
      "Dealer has: \n",
      " <The mistery card> \n",
      "Four of Diamonds\n",
      "\n",
      "Player has: \n",
      "Ace of Spades\n",
      "Four of Spades\n",
      "Six of Diamonds\n"
     ]
    },
    {
     "name": "stdin",
     "output_type": "stream",
     "text": [
      "Do you want to hit? y/n n\n"
     ]
    },
    {
     "name": "stdout",
     "output_type": "stream",
     "text": [
      "Player stand. Now it is Dealer turn.\n",
      "\n",
      "Dealer has: \n",
      " <The mistery card> \n",
      "Four of Diamonds\n",
      "\n",
      "Player has: \n",
      "Ace of Spades\n",
      "Four of Spades\n",
      "Six of Diamonds\n",
      "\n",
      "Dealer has: \n",
      "Five of Spades\n",
      "Four of Diamonds\n",
      "Ten of Clubs\n",
      "Dealer's Hand =  19\n",
      "\n",
      "Player has: \n",
      "Ace of Spades\n",
      "Four of Spades\n",
      "Six of Diamonds\n",
      "Player's Hand =  21\n",
      "Your  21  is larger than dealer's  19\n",
      "You win!\n",
      "Player's current chip count is  143\n"
     ]
    },
    {
     "name": "stdin",
     "output_type": "stream",
     "text": [
      "Would you like to play another hand? Enter 'y' or 'n'  y\n"
     ]
    },
    {
     "name": "stdout",
     "output_type": "stream",
     "text": [
      "Welcome to Patrick's Black Jack.\n",
      "Dealer will hit until reach at least 17. Aces count as 1 or 11.\n"
     ]
    },
    {
     "name": "stdin",
     "output_type": "stream",
     "text": [
      "How much do you want to bet on this hand?  55\n"
     ]
    },
    {
     "name": "stdout",
     "output_type": "stream",
     "text": [
      "\n",
      "Dealer has: \n",
      " <The mistery card> \n",
      "Five of Spades\n",
      "\n",
      "Player has: \n",
      "Nine of Hearts\n",
      "Four of Diamonds\n"
     ]
    },
    {
     "name": "stdin",
     "output_type": "stream",
     "text": [
      "Do you want to hit? y/n n\n"
     ]
    },
    {
     "name": "stdout",
     "output_type": "stream",
     "text": [
      "Player stand. Now it is Dealer turn.\n",
      "\n",
      "Dealer has: \n",
      " <The mistery card> \n",
      "Five of Spades\n",
      "\n",
      "Player has: \n",
      "Nine of Hearts\n",
      "Four of Diamonds\n",
      "\n",
      "Dealer has: \n",
      "Queen of Clubs\n",
      "Five of Spades\n",
      "King of Clubs\n",
      "Dealer's Hand =  25\n",
      "\n",
      "Player has: \n",
      "Nine of Hearts\n",
      "Four of Diamonds\n",
      "Player's Hand =  13\n",
      "Dealer busted, you win!\n",
      "Player's current chip count is  155\n"
     ]
    },
    {
     "name": "stdin",
     "output_type": "stream",
     "text": [
      "Would you like to play another hand? Enter 'y' or 'n'  n\n"
     ]
    },
    {
     "name": "stdout",
     "output_type": "stream",
     "text": [
      "Thanks for playing!\n"
     ]
    }
   ],
   "source": [
    "while True:\n",
    "    # Print an opening statement\n",
    "    print(\"Welcome to Patrick's Black Jack.\\nDealer will hit until reach at least 17. Aces count as 1 or 11.\")\n",
    "    playing = True\n",
    "    # Create & shuffle the deck, deal two cards to each player\n",
    "    playCards = Deck()\n",
    "    playCards.shuffle()\n",
    "    player = Hand()\n",
    "    dealer = Hand()\n",
    "    player.add_card(playCards.deal())\n",
    "    dealer.add_card(playCards.deal())\n",
    "    player.add_card(playCards.deal())\n",
    "    dealer.add_card(playCards.deal())\n",
    "        \n",
    "    # Set up the Player's chips\n",
    "    chips = Chips()\n",
    "    \n",
    "    # Prompt the Player for their bet\n",
    "    take_bet(chips)\n",
    "    \n",
    "    # Show cards (but keep one dealer card hidden)\n",
    "    show_some(player, dealer)\n",
    "    \n",
    "    while playing:  # recall this variable from our hit_or_stand function\n",
    "        \n",
    "        # Prompt for Player to Hit or Stand\n",
    "        hit_or_stand(playCards, player)\n",
    "        \n",
    "        # Show cards (but keep one dealer card hidden)\n",
    "        show_some(player, dealer)\n",
    "        \n",
    "        # If player's hand exceeds 21, run player_busts() and break out of loop\n",
    "        if player.value > 21:\n",
    "            player_busts(player, dealer, chips)\n",
    "            break\n",
    "\n",
    "    # If Player hasn't busted, play Dealer's hand until Dealer reaches 17\n",
    "    if player.value <= 21:\n",
    "        while dealer.value < 17:\n",
    "            hit(playCards, dealer)\n",
    "        # Show all cards\n",
    "        show_all(player, dealer)\n",
    "        # Run different winning scenarios\n",
    "        if dealer.value > 21:\n",
    "            dealer_busts(player, dealer, chips)\n",
    "            \n",
    "        elif dealer.value > player.value:\n",
    "            dealer_wins(player, dealer, chips)\n",
    "            \n",
    "        elif dealer.value == player.value:\n",
    "            push(player, dealer, chips)\n",
    "            \n",
    "        elif dealer.value < player.value:\n",
    "            player_wins(player, dealer, chips)\n",
    "            \n",
    "        else:\n",
    "            continue\n",
    "    \n",
    "    # Inform Player of their chips total \n",
    "    print(\"Player's current chip count is \", chips.total)\n",
    "    # Ask to play again\n",
    "    new_game = input(\"Would you like to play another hand? Enter 'y' or 'n' \")\n",
    "    \n",
    "    if new_game[0].lower()=='y':\n",
    "        playing=True\n",
    "        continue\n",
    "    else:\n",
    "        print(\"Thanks for playing!\")\n",
    "        break"
   ]
  },
  {
   "cell_type": "markdown",
   "metadata": {},
   "source": [
    "And that's it! Remember, these steps may differ significantly from your own solution. That's OK! Keep working on different sections of your program until you get the desired results. It takes a lot of time and patience! As always, feel free to post questions and comments to the QA Forums.\n",
    "# Good job!"
   ]
  }
 ],
 "metadata": {
  "kernelspec": {
   "display_name": "Python 3",
   "language": "python",
   "name": "python3"
  },
  "language_info": {
   "codemirror_mode": {
    "name": "ipython",
    "version": 3
   },
   "file_extension": ".py",
   "mimetype": "text/x-python",
   "name": "python",
   "nbconvert_exporter": "python",
   "pygments_lexer": "ipython3",
   "version": "3.6.9"
  }
 },
 "nbformat": 4,
 "nbformat_minor": 4
}
